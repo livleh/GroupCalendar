{
 "cells": [
  {
   "cell_type": "code",
   "execution_count": null,
   "metadata": {},
   "outputs": [],
   "source": [
    "import pandas as pd\n",
    "\n",
    "import matplotlib.pyplot as plt\n",
    "import matplotlib.ticker as ticker\n",
    "import seaborn as sns\n",
    "\n",
    "from IPython import display"
   ]
  },
  {
   "cell_type": "code",
   "execution_count": null,
   "metadata": {},
   "outputs": [],
   "source": [
    "# Set font size\n",
    "plt.rc('axes', titlesize=20)     # fontsize of the plot title\n",
    "plt.rc('xtick', labelsize=15)    # fontsize of the tick labels"
   ]
  },
  {
   "cell_type": "code",
   "execution_count": null,
   "metadata": {},
   "outputs": [],
   "source": [
    "# Pie chart for age range\n",
    "title = 'Age Range Distribution'\n",
    "labels = ['50-70 Years', '20-39 Years']\n",
    "sizes = [25, 75]\n",
    "\n",
    "# Plot\n",
    "fig = plt.figure(figsize=(6, 6))\n",
    "# width, height = fig.get_size_inches()\n",
    "# print(f\"The dimensions of the figure are {width} x {height} inches\")\n",
    "\n",
    "_, _, autotexts = plt.pie(sizes, labels=labels, autopct='%1.1f%%', startangle=80, radius=0.00001)\n",
    "plt.title(title, pad=20)\n",
    "plt.axis('equal')\n",
    "\n",
    "# Customize percent labels\n",
    "for autotext in autotexts:\n",
    "    autotext.set_horizontalalignment('center')\n",
    "    autotext.set_fontsize(15)\n",
    "\n",
    "plt.show()"
   ]
  },
  {
   "cell_type": "code",
   "execution_count": null,
   "metadata": {},
   "outputs": [],
   "source": [
    "# Pie chart for employmnet\n",
    "title = 'Employment Distribution'\n",
    "labels = ['Full Time', 'Student', 'Independent']\n",
    "sizes = [33.3, 50, 16.7]\n",
    "\n",
    "# Plot\n",
    "plt.figure(figsize=(6, 6))\n",
    "# width, height = fig.get_size_inches()\n",
    "# print(f\"The dimensions of the figure are {width} x {height} inches\")\n",
    "# plt.margins(0.1, 0.1)\n",
    "\n",
    "_, _, autotexts = plt.pie(sizes, labels=labels, autopct='%1.1f%%', startangle=170, radius=1)\n",
    "plt.title(title)\n",
    "plt.axis('square')\n",
    "\n",
    "# Customize percent labels\n",
    "for autotext in autotexts:\n",
    "    autotext.set_horizontalalignment('center')\n",
    "    autotext.set_fontsize(15)\n",
    "\n",
    "plt.show()"
   ]
  },
  {
   "cell_type": "code",
   "execution_count": null,
   "metadata": {},
   "outputs": [],
   "source": [
    "# Pie chart for technical affinity\n",
    "title = 'Age Range Distribution'\n",
    "labels = ['No', 'Yes']\n",
    "sizes = [25, 75]\n",
    "\n",
    "# Plot\n",
    "_, _, autotexts = plt.pie(sizes, labels=labels, autopct='%1.1f%%', startangle=140)\n",
    "plt.title(title)\n",
    "plt.axis('equal')\n",
    "\n",
    "# Customize percent labels\n",
    "for autotext in autotexts:\n",
    "    autotext.set_horizontalalignment('center')\n",
    "    autotext.set_fontsize(15)\n",
    "\n",
    "plt.show()"
   ]
  },
  {
   "cell_type": "code",
   "execution_count": null,
   "metadata": {},
   "outputs": [],
   "source": [
    "# Data for the pie charts\n",
    "data_set = [[25, 75], [33.3, 50, 16.7], [25, 75]]\n",
    "title_set = ['Age', 'Employment', 'Technical Affinity']\n",
    "label_set = [['50-70 Years', '20-39 Years'], ['Full Time', 'Student', 'Independent'], ['No', 'Yes']]\n",
    "\n",
    "# Create three subplots in a 1x3 grid\n",
    "fig, axs = plt.subplots(1, 3, figsize=(12, 4))  # Adjust the figsize as needed\n",
    "\n",
    "# Iterate through each subplot and plot the pie chart\n",
    "for i, ax in enumerate(axs):\n",
    "    _, _, autotexts = ax.pie(data_set[i], labels=label_set[i], autopct='%1.1f%%')\n",
    "    ax.set_aspect('equal')  # Set aspect ratio to make it a square\n",
    "    ax.set_title(title_set[i])\n",
    "    for autotext in autotexts:\n",
    "        autotext.set_horizontalalignment('center')\n",
    "        autotext.set_fontsize(15)\n",
    "\n",
    "plt.tight_layout()  # Adjust spacing\n",
    "plt.show()"
   ]
  }
 ],
 "metadata": {
  "kernelspec": {
   "display_name": "Python 3",
   "language": "python",
   "name": "python3"
  },
  "language_info": {
   "codemirror_mode": {
    "name": "ipython",
    "version": 3
   },
   "file_extension": ".py",
   "mimetype": "text/x-python",
   "name": "python",
   "nbconvert_exporter": "python",
   "pygments_lexer": "ipython3",
   "version": "3.11.6"
  }
 },
 "nbformat": 4,
 "nbformat_minor": 2
}
