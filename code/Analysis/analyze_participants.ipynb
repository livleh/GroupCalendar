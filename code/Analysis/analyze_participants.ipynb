{
 "cells": [
  {
   "cell_type": "code",
   "execution_count": null,
   "metadata": {},
   "outputs": [],
   "source": [
    "import pandas as pd\n",
    "\n",
    "import matplotlib.pyplot as plt\n",
    "import matplotlib.ticker as ticker\n",
    "import seaborn as sns\n",
    "\n",
    "from IPython import display"
   ]
  },
  {
   "cell_type": "code",
   "execution_count": null,
   "metadata": {},
   "outputs": [],
   "source": [
    "# Import answers\n",
    "data = pd.read_csv(\"Participant Questionnaire (Responses).csv\")\n",
    "# Rename columns to more sensible names\n",
    "data.rename(\n",
    "    columns={\n",
    "        \"Please provide your ID that was assigned to you by your presenter:\": \"ID\",\n",
    "        \"How old are you?\": \"Age\",\n",
    "        \"What gender do you identify yourself with the most?\": \"Gender\",\n",
    "        \"How technically affine are you?\": \"Technical Affinity\",\n",
    "        \"How often do you use calendar apps?\": \"Usage Frequency\"\n",
    "    }, inplace=True\n",
    ")\n",
    "# Disregard timestamps\n",
    "data.drop(labels=[\"Timestamp\"], axis=1, inplace=True)\n",
    "\n",
    "# Output preview of data\n",
    "print(\"Preview of the Data:\")\n",
    "print(data.head(3))"
   ]
  },
  {
   "cell_type": "code",
   "execution_count": null,
   "metadata": {},
   "outputs": [],
   "source": [
    "# Columns to analyze\n",
    "columns = [\"Age\", \"Gender\", \"Technical Affinity\", \"Usage Frequency\"]\n",
    "titles = [\"Age Distribution of Participants\", \"Gender Distribution of Participants\", \"Technical Affinity of Participants\", \"Calendar Usage Frequency of Participants\"]\n",
    "\n",
    "# For each column\n",
    "for column in zip(columns, titles):\n",
    "    print(\"Analyzing column \" + column[0] + \":\")\n",
    "    # Extract relevant part\n",
    "    temp = data[[\"ID\", column[0]]].copy()\n",
    "    # Order the Usage Frequency column if relevant\n",
    "    if column[0] == \"Usage Frequency\":\n",
    "        temp[column[0]] = pd.Categorical(temp[column[0]], [\"Never\", \"Rarely\", \"Often\", \"Daily\"])\n",
    "    # Print mean and std\n",
    "    if column[0] in [\"Age\", \"Technical Affinity\"]:\n",
    "        print(f\"Average: {temp[column[0]].mean()}\")\n",
    "        print(f\"Median: {temp[column[0]].median()}\")\n",
    "        print(f\"Standard Deviation: {temp[column[0]].std()}\")\n",
    "    # Plot\n",
    "    plot = sns.histplot(data=temp, x=column[0], shrink=0.8, bins=[0.5,1.5,2.5,3.5,4.5,5.5,6.5,7.5,8.5,9.5,10.5] if column == \"Technical Affinity\" else 8)   # TODO: Change Techincal Affinity to 1-10 scale?\n",
    "    plot.set_title(column[1])\n",
    "    plot.set_ylabel(\"Number of Participants\")\n",
    "    plot.yaxis.set_major_locator(ticker.MaxNLocator(integer=True)) \n",
    "    display.display(plt.gcf())\n",
    "    plt.clf()\n",
    "    # TODO: maybe add units to Age plot\n"
   ]
  },
  {
   "cell_type": "code",
   "execution_count": null,
   "metadata": {},
   "outputs": [],
   "source": []
  }
 ],
 "metadata": {
  "kernelspec": {
   "display_name": "py3.9",
   "language": "python",
   "name": "python3"
  },
  "language_info": {
   "codemirror_mode": {
    "name": "ipython",
    "version": 3
   },
   "file_extension": ".py",
   "mimetype": "text/x-python",
   "name": "python",
   "nbconvert_exporter": "python",
   "pygments_lexer": "ipython3",
   "version": "3.11.6"
  }
 },
 "nbformat": 4,
 "nbformat_minor": 2
}
